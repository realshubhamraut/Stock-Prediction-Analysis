{
 "cells": [
  {
   "cell_type": "markdown",
   "id": "010b5122",
   "metadata": {},
   "source": [
    "# Stock Prices Analysis and Prediction"
   ]
  },
  {
   "cell_type": "markdown",
   "id": "c68348f6",
   "metadata": {},
   "source": [
    "### Getting the Data"
   ]
  },
  {
   "cell_type": "markdown",
   "id": "912eb817",
   "metadata": {},
   "source": [
    "##### Importing required dependencies"
   ]
  },
  {
   "cell_type": "code",
   "execution_count": 1,
   "id": "c13ff74b",
   "metadata": {},
   "outputs": [
    {
     "ename": "ModuleNotFoundError",
     "evalue": "No module named 'pandas_datareader'",
     "output_type": "error",
     "traceback": [
      "\u001b[0;31m---------------------------------------------------------------------------\u001b[0m",
      "\u001b[0;31mModuleNotFoundError\u001b[0m                       Traceback (most recent call last)",
      "Cell \u001b[0;32mIn[1], line 11\u001b[0m\n\u001b[1;32m      8\u001b[0m get_ipython()\u001b[38;5;241m.\u001b[39mrun_line_magic(\u001b[38;5;124m'\u001b[39m\u001b[38;5;124mmatplotlib\u001b[39m\u001b[38;5;124m'\u001b[39m, \u001b[38;5;124m'\u001b[39m\u001b[38;5;124minline\u001b[39m\u001b[38;5;124m'\u001b[39m)\n\u001b[1;32m     10\u001b[0m \u001b[38;5;66;03m# For reading stock data from yahoo\u001b[39;00m\n\u001b[0;32m---> 11\u001b[0m \u001b[38;5;28;01mfrom\u001b[39;00m \u001b[38;5;21;01mpandas_datareader\u001b[39;00m\u001b[38;5;21;01m.\u001b[39;00m\u001b[38;5;21;01mdata\u001b[39;00m \u001b[38;5;28;01mimport\u001b[39;00m DataReader\n\u001b[1;32m     12\u001b[0m \u001b[38;5;28;01mimport\u001b[39;00m \u001b[38;5;21;01myfinance\u001b[39;00m \u001b[38;5;28;01mas\u001b[39;00m \u001b[38;5;21;01myf\u001b[39;00m\n\u001b[1;32m     13\u001b[0m \u001b[38;5;28;01mfrom\u001b[39;00m \u001b[38;5;21;01mpandas_datareader\u001b[39;00m \u001b[38;5;28;01mimport\u001b[39;00m data \u001b[38;5;28;01mas\u001b[39;00m pdr\n",
      "\u001b[0;31mModuleNotFoundError\u001b[0m: No module named 'pandas_datareader'"
     ]
    }
   ],
   "source": [
    "import pandas as pd\n",
    "import numpy as np\n",
    "\n",
    "import matplotlib.pyplot as plt\n",
    "import seaborn as sns\n",
    "sns.set_style('whitegrid')\n",
    "plt.style.use(\"fivethirtyeight\")\n",
    "%matplotlib inline\n",
    "\n",
    "# For reading stock data from yahoo\n",
    "from pandas_datareader.data import DataReader\n",
    "import yfinance as yf\n",
    "from pandas_datareader import data as pdr\n",
    "\n",
    "yf.pdr_override()\n",
    "\n",
    "# For time stamps\n",
    "from datetime import datetime\n",
    "\n",
    "import tensorflow as tf"
   ]
  },
  {
   "cell_type": "markdown",
   "id": "9e0db9f0",
   "metadata": {},
   "source": [
    "##### Here we are choosing to analyse 5 biggest tech sector stocks in National Stock Exchange of India. They are Tata Consultancy Services, Infosys, HCL Tech, Wipro and Tech Mahindra. "
   ]
  },
  {
   "cell_type": "code",
   "execution_count": null,
   "id": "998b7007",
   "metadata": {},
   "outputs": [],
   "source": [
    "# The tech stocks we'll use for this analysis\n",
    "stock_list = ['TCS.NS', 'INFY.NS', 'HCLTECH.NS', 'WIPRO.NS']\n",
    "\n",
    "# Set up End and Start times for data grab\n",
    "end = datetime.now()\n",
    "start = datetime(end.year - 1, end.month, end.day)\n",
    "\n",
    "TCS = yf.download('TCS.NS', start, end)\n",
    "INFY = yf.download('INFY.NS', start, end)\n",
    "HCLTECH = yf.download('HCLTECH.NS', start, end)\n",
    "WIPRO = yf.download('WIPRO.NS', start, end)\n",
    "    "
   ]
  },
  {
   "cell_type": "code",
   "execution_count": null,
   "id": "524fb9c1",
   "metadata": {},
   "outputs": [],
   "source": [
    "company_list = [TCS, INFY, HCLTECH, WIPRO]\n",
    "\n",
    "for company, stock in zip(company_list, stock_list):\n",
    "    company[\"Company\"] = stock\n",
    "    "
   ]
  },
  {
   "cell_type": "markdown",
   "id": "ab87e69a",
   "metadata": {},
   "source": [
    "##### Having a look at the downloaded data"
   ]
  },
  {
   "cell_type": "code",
   "execution_count": null,
   "id": "6e99d4c8",
   "metadata": {},
   "outputs": [],
   "source": [
    "TCS.head()"
   ]
  },
  {
   "cell_type": "markdown",
   "id": "0d9dc2c4",
   "metadata": {},
   "source": [
    "##### Descriptive statistics about the data"
   ]
  },
  {
   "cell_type": "code",
   "execution_count": null,
   "id": "440d0951",
   "metadata": {},
   "outputs": [],
   "source": [
    "TCS.describe()"
   ]
  },
  {
   "cell_type": "markdown",
   "id": "b496777d",
   "metadata": {},
   "source": [
    "##### Information about the data"
   ]
  },
  {
   "cell_type": "code",
   "execution_count": null,
   "id": "a0949d66",
   "metadata": {},
   "outputs": [],
   "source": [
    "TCS.info()"
   ]
  },
  {
   "cell_type": "markdown",
   "id": "f78624fa",
   "metadata": {},
   "source": [
    "### Plotting the closing prices of the stocks"
   ]
  },
  {
   "cell_type": "code",
   "execution_count": null,
   "id": "d8bdcba4",
   "metadata": {},
   "outputs": [],
   "source": [
    "# Let's see a historical view of the closing price\n",
    "plt.figure(figsize=(18, 12))\n",
    "plt.subplots_adjust(top=1.25, bottom=1.2)\n",
    "\n",
    "for i, company in enumerate(company_list, 1):\n",
    "    plt.subplot(2, 2, i)\n",
    "    company['Adj Close'].plot()\n",
    "    plt.ylabel('Adj Close')\n",
    "    plt.xlabel('')\n",
    "    plt.title(f\"Closing Price of {stock_list[i - 1]}\")\n",
    "    \n",
    "plt.tight_layout()"
   ]
  },
  {
   "cell_type": "markdown",
   "id": "6625ba09",
   "metadata": {},
   "source": [
    "### Plotting volume of sales of stocks"
   ]
  },
  {
   "cell_type": "code",
   "execution_count": null,
   "id": "86815ab1",
   "metadata": {},
   "outputs": [],
   "source": [
    "# Now let's plot the total volume of stock being traded each day\n",
    "plt.figure(figsize=(18, 12))\n",
    "plt.subplots_adjust(top=1.25, bottom=1.2)\n",
    "\n",
    "for i, company in enumerate(company_list, 1):\n",
    "    plt.subplot(2, 2, i)\n",
    "    company['Volume'].plot()\n",
    "    plt.ylabel('Volume')\n",
    "    plt.xlabel('')\n",
    "    plt.title(f\"Sales volume for {stock_list[i - 1]}\")\n",
    "\n",
    "plt.tight_layout()"
   ]
  },
  {
   "cell_type": "markdown",
   "id": "3c39debe",
   "metadata": {},
   "source": [
    "### Moving average of the stocks"
   ]
  },
  {
   "cell_type": "code",
   "execution_count": null,
   "id": "3bea108f",
   "metadata": {},
   "outputs": [],
   "source": [
    "ma_day = [10, 20, 50]\n",
    "\n",
    "for ma in ma_day:\n",
    "    for company in company_list:\n",
    "        column_name = f\"MA for {ma} days\"\n",
    "        company[column_name] = company['Adj Close'].rolling(ma).mean()\n",
    "        \n",
    "\n",
    "fig, axes = plt.subplots(nrows=2, ncols=2)\n",
    "fig.set_figheight(12)\n",
    "fig.set_figwidth(18)\n",
    "\n",
    "TCS[['Adj Close', 'MA for 10 days', 'MA for 20 days', 'MA for 50 days']].plot(ax=axes[0,0])\n",
    "axes[0,0].set_title('TCS')\n",
    "\n",
    "INFY[['Adj Close', 'MA for 10 days', 'MA for 20 days', 'MA for 50 days']].plot(ax=axes[0,1])\n",
    "axes[0,1].set_title('INFY')\n",
    "\n",
    "HCLTECH[['Adj Close', 'MA for 10 days', 'MA for 20 days', 'MA for 50 days']].plot(ax=axes[1,0])\n",
    "axes[1,0].set_title('HCLTECH')\n",
    "\n",
    "WIPRO[['Adj Close', 'MA for 10 days', 'MA for 20 days', 'MA for 50 days']].plot(ax=axes[1,1])\n",
    "axes[1,1].set_title('WIPRO')\n",
    "\n",
    "plt.tight_layout()"
   ]
  },
  {
   "cell_type": "markdown",
   "id": "15087df5",
   "metadata": {},
   "source": [
    "##### We see in the graph that the best values to measure the moving average are 10 and 20 days because we still capture trends in the data without noise."
   ]
  },
  {
   "cell_type": "markdown",
   "id": "92c2951c",
   "metadata": {},
   "source": [
    "### Seeing the daily returns of stock"
   ]
  },
  {
   "cell_type": "code",
   "execution_count": null,
   "id": "9fb6a5d9",
   "metadata": {},
   "outputs": [],
   "source": [
    "# We'll use pct_change to find the percent change for each day\n",
    "for company in company_list:\n",
    "    company['Daily Return'] = company['Adj Close'].pct_change()\n",
    "\n",
    "# Then we'll plot the daily return percentage\n",
    "fig, axes = plt.subplots(nrows=2, ncols=2)\n",
    "fig.set_figheight(12)\n",
    "fig.set_figwidth(18)\n",
    "\n",
    "TCS['Daily Return'].plot(ax=axes[0,0], legend=True, linestyle='--', marker='o')\n",
    "axes[0,0].set_title('TCS')\n",
    "\n",
    "INFY['Daily Return'].plot(ax=axes[0,1], legend=True, linestyle='--', marker='o')\n",
    "axes[0,1].set_title('INFY')\n",
    "\n",
    "HCLTECH['Daily Return'].plot(ax=axes[1,0], legend=True, linestyle='--', marker='o')\n",
    "axes[1,0].set_title('HCLTECH')\n",
    "\n",
    "WIPRO['Daily Return'].plot(ax=axes[1,1], legend=True, linestyle='--', marker='o')\n",
    "axes[1,1].set_title('WIPRO')\n",
    "\n",
    "plt.tight_layout()"
   ]
  },
  {
   "cell_type": "markdown",
   "id": "f88d19af",
   "metadata": {},
   "source": [
    "### Average daily return using a histogram"
   ]
  },
  {
   "cell_type": "code",
   "execution_count": null,
   "id": "91e48830",
   "metadata": {},
   "outputs": [],
   "source": [
    "# Lets see average daily return using a histogram\n",
    "plt.figure(figsize=(18, 15))\n",
    "\n",
    "for i, company in enumerate(company_list, 1):\n",
    "    plt.subplot(2, 2, i)\n",
    "    company['Daily Return'].hist(bins=50)\n",
    "    plt.xlabel('Daily Return')\n",
    "    plt.ylabel('Counts')\n",
    "    plt.title(f'{stock_list[i - 1]}')\n",
    "    \n",
    "plt.tight_layout()"
   ]
  },
  {
   "cell_type": "markdown",
   "id": "dc8c067e",
   "metadata": {},
   "source": [
    "### Correlation between different stock closing prices"
   ]
  },
  {
   "cell_type": "code",
   "execution_count": null,
   "id": "cd9ee079",
   "metadata": {},
   "outputs": [],
   "source": [
    "# Grab all the closing prices for the tech stock list into one DataFrame\n",
    "\n",
    "closing_df = pdr.get_data_yahoo(stock_list, start=start, end=end)['Adj Close']\n",
    "\n",
    "# Make a new tech returns DataFrame\n",
    "tech_rets = closing_df.pct_change()\n",
    "tech_rets.head()"
   ]
  },
  {
   "cell_type": "code",
   "execution_count": null,
   "id": "94d546eb",
   "metadata": {},
   "outputs": [],
   "source": [
    "# We can simply call pairplot on our DataFrame for an automatic visual analysis \n",
    "# of all the comparisons\n",
    "\n",
    "sns.pairplot(tech_rets, kind='reg')"
   ]
  },
  {
   "cell_type": "markdown",
   "id": "f8366dc4",
   "metadata": {},
   "source": [
    "### Correlation Matrix"
   ]
  },
  {
   "cell_type": "code",
   "execution_count": null,
   "id": "faf51449",
   "metadata": {},
   "outputs": [],
   "source": [
    "plt.figure(figsize=(18, 12))\n",
    "\n",
    "plt.subplot(2, 2, 1)\n",
    "sns.heatmap(tech_rets.corr(), annot=True, cmap='summer')\n",
    "plt.title('Correlation of stock return')\n",
    "\n",
    "plt.subplot(2, 2, 2)\n",
    "sns.heatmap(closing_df.corr(), annot=True, cmap='summer')\n",
    "plt.title('Correlation of stock closing price')"
   ]
  },
  {
   "cell_type": "markdown",
   "id": "a9e0b131",
   "metadata": {},
   "source": [
    "### Risk vs Return analysis"
   ]
  },
  {
   "cell_type": "code",
   "execution_count": null,
   "id": "c614f4b7",
   "metadata": {},
   "outputs": [],
   "source": [
    "rets = tech_rets.dropna()\n",
    "\n",
    "area = np.pi * 20\n",
    "\n",
    "plt.figure(figsize=(18, 12))\n",
    "plt.scatter(rets.mean(), rets.std(), s=area)\n",
    "plt.xlabel('Expected return')\n",
    "plt.ylabel('Risk')\n",
    "\n",
    "for label, x, y in zip(rets.columns, rets.mean(), rets.std()):\n",
    "    plt.annotate(label, xy=(x, y), xytext=(50, 50), textcoords='offset points', ha='right', va='bottom', \n",
    "                 arrowprops=dict(arrowstyle='-', color='blue', connectionstyle='arc3,rad=-0.3'))"
   ]
  },
  {
   "cell_type": "markdown",
   "id": "accad1e3",
   "metadata": {},
   "source": [
    "### Predicting the prices of TCS"
   ]
  },
  {
   "cell_type": "code",
   "execution_count": null,
   "id": "69e597dd",
   "metadata": {},
   "outputs": [],
   "source": [
    "# Get the stock quote\n",
    "df = pdr.get_data_yahoo('TCS.NS', start='2012-01-01', end=datetime.now())\n",
    "# Show teh data\n",
    "df"
   ]
  },
  {
   "cell_type": "code",
   "execution_count": null,
   "id": "b00e2c77",
   "metadata": {},
   "outputs": [],
   "source": [
    "plt.figure(figsize=(16,6))\n",
    "plt.title('Close Price History')\n",
    "plt.plot(df['Close'])\n",
    "plt.xlabel('Date', fontsize=18)\n",
    "plt.ylabel('Close Price INR', fontsize=18)\n",
    "plt.show()"
   ]
  },
  {
   "cell_type": "code",
   "execution_count": null,
   "id": "6efb2eec",
   "metadata": {},
   "outputs": [],
   "source": [
    "train_val_split = .9\n",
    "window_size = 30\n",
    "epochs = 10\n"
   ]
  },
  {
   "cell_type": "code",
   "execution_count": null,
   "id": "681870b9",
   "metadata": {},
   "outputs": [],
   "source": [
    "# Create a new dataframe with only the 'Close column \n",
    "data = df.filter(['Close'])\n",
    "# Convert the dataframe to a numpy array\n",
    "dataset = data.values\n",
    "# Get the number of rows to train the model on\n",
    "training_data_len = int(np.ceil( len(dataset) * train_val_split ))\n",
    "\n",
    "training_data_len"
   ]
  },
  {
   "cell_type": "code",
   "execution_count": null,
   "id": "6a5d0e8f",
   "metadata": {},
   "outputs": [],
   "source": [
    "# Scale the data\n",
    "from sklearn.preprocessing import MinMaxScaler\n",
    "\n",
    "scaler = MinMaxScaler(feature_range=(0,1))\n",
    "scaled_data = scaler.fit_transform(dataset)\n",
    "\n",
    "scaled_data"
   ]
  },
  {
   "cell_type": "code",
   "execution_count": null,
   "id": "f945ed88",
   "metadata": {},
   "outputs": [],
   "source": [
    "# Create the training data set \n",
    "# Create the scaled training data set\n",
    "train_data = scaled_data[0:int(training_data_len), :]\n",
    "# Split the data into x_train and y_train data sets\n",
    "x_train = []\n",
    "y_train = []\n",
    "\n",
    "for i in range(window_size, len(train_data)):\n",
    "    x_train.append(train_data[i-window_size:i, 0])\n",
    "    y_train.append(train_data[i, 0])\n",
    "    if i<= window_size+1:\n",
    "        print(x_train)\n",
    "        print(y_train)\n",
    "        print()\n",
    "        \n",
    "# Convert the x_train and y_train to numpy arrays \n",
    "x_train, y_train = np.array(x_train), np.array(y_train)\n",
    "\n",
    "# Reshape the data\n",
    "x_train = np.reshape(x_train, (x_train.shape[0], x_train.shape[1], 1))\n",
    "# x_train.shape"
   ]
  },
  {
   "cell_type": "code",
   "execution_count": null,
   "id": "4c93b001",
   "metadata": {},
   "outputs": [],
   "source": [
    "# Build the Model\n",
    "model = tf.keras.models.Sequential([\n",
    "  tf.keras.layers.LSTM(128, return_sequences=True,input_shape= (x_train.shape[1], 1)),\n",
    "  tf.keras.layers.LSTM(64),\n",
    "  tf.keras.layers.Dense(30, activation=\"relu\"),\n",
    "  tf.keras.layers.Dense(10, activation=\"relu\"),\n",
    "  tf.keras.layers.Dense(1),\n",
    "])\n",
    "\n",
    "# Compile the model\n",
    "model.compile(optimizer='adam', loss='mean_squared_error')\n",
    "\n",
    "# Train the model\n",
    "model.fit(x_train, y_train, batch_size=100, epochs=epochs)"
   ]
  },
  {
   "cell_type": "code",
   "execution_count": null,
   "id": "092c015d",
   "metadata": {},
   "outputs": [],
   "source": [
    "# Create the testing data set\n",
    "# Create a new array containing scaled values from index 1543 to 2002 \n",
    "test_data = scaled_data[training_data_len - window_size: , :]\n",
    "# Create the data sets x_test and y_test\n",
    "x_test = []\n",
    "y_test = dataset[training_data_len:, :]\n",
    "for i in range(window_size, len(test_data)):\n",
    "    x_test.append(test_data[i-window_size:i, 0])\n",
    "    \n",
    "# Convert the data to a numpy array\n",
    "x_test = np.array(x_test)\n",
    "\n",
    "# Reshape the data\n",
    "x_test = np.reshape(x_test, (x_test.shape[0], x_test.shape[1], 1 ))\n",
    "\n",
    "# Get the models predicted price values \n",
    "predictions = model.predict(x_test)\n",
    "predictions = scaler.inverse_transform(predictions)\n",
    "\n",
    "# Get the root mean squared error (RMSE)\n",
    "rmse = np.sqrt(np.mean(((predictions - y_test) ** 2)))\n",
    "rmse"
   ]
  },
  {
   "cell_type": "code",
   "execution_count": null,
   "id": "210cb52b",
   "metadata": {},
   "outputs": [],
   "source": [
    "# Plot the data\n",
    "train = data[:training_data_len]\n",
    "valid = data[training_data_len:]\n",
    "valid['Predictions'] = predictions\n",
    "# Visualize the data\n",
    "plt.figure(figsize=(16,6))\n",
    "plt.title('Model')\n",
    "plt.xlabel('Date', fontsize=18)\n",
    "plt.ylabel('Close Price INR', fontsize=18)\n",
    "plt.plot(train['Close'])\n",
    "plt.plot(valid[['Close', 'Predictions']])\n",
    "plt.legend(['Train', 'Val', 'Predictions'], loc='lower right')\n",
    "plt.show()"
   ]
  },
  {
   "cell_type": "code",
   "execution_count": null,
   "id": "ca6f83b1",
   "metadata": {},
   "outputs": [],
   "source": [
    "# Show the valid and predicted prices\n",
    "valid"
   ]
  }
 ],
 "metadata": {
  "kernelspec": {
   "display_name": "Python 3 (ipykernel)",
   "language": "python",
   "name": "python3"
  },
  "language_info": {
   "codemirror_mode": {
    "name": "ipython",
    "version": 3
   },
   "file_extension": ".py",
   "mimetype": "text/x-python",
   "name": "python",
   "nbconvert_exporter": "python",
   "pygments_lexer": "ipython3",
   "version": "3.10.9"
  }
 },
 "nbformat": 4,
 "nbformat_minor": 5
}
